{
 "cells": [
  {
   "cell_type": "code",
   "execution_count": 2,
   "id": "7ed69fdd",
   "metadata": {},
   "outputs": [],
   "source": [
    "import numpy as np\n",
    "import matplotlib.pyplot as plt\n",
    "import scipy.io as scio\n",
    "from RBM import *\n",
    "from principal_DNN_mnist import *\n",
    "from pathlib import Path\n",
    "\n",
    "device = torch.device('cuda' if torch.cuda.is_available() else 'cpu')"
   ]
  },
  {
   "cell_type": "code",
   "execution_count": 3,
   "id": "a18a2c7f",
   "metadata": {},
   "outputs": [],
   "source": [
    "data_path = Path(\".\") / \"data\"/ \"binaryalphadigs.mat\""
   ]
  },
  {
   "cell_type": "code",
   "execution_count": 4,
   "id": "4367c7ea",
   "metadata": {},
   "outputs": [
    {
     "name": "stdout",
     "output_type": "stream",
     "text": [
      "Label with their indices:\n",
      "{0: '0', 1: '1', 2: '2', 3: '3', 4: '4', 5: '5', 6: '6', 7: '7', 8: '8', 9: '9', 10: 'A', 11: 'B', 12: 'C', 13: 'D', 14: 'E', 15: 'F', 16: 'G', 17: 'H', 18: 'I', 19: 'J', 20: 'K', 21: 'L', 22: 'M', 23: 'N', 24: 'O', 25: 'P', 26: 'Q', 27: 'R', 28: 'S', 29: 'T', 30: 'U', 31: 'V', 32: 'W', 33: 'X', 34: 'Y', 35: 'Z'}\n"
     ]
    }
   ],
   "source": [
    "data_mat = scio.loadmat(data_path)\n",
    "data = data_mat['dat']\n",
    "label = data_mat['classlabels'][0]\n",
    "label_ = {i:label[i][0] for i in range(len(label))}\n",
    "print(\"Label with their indices:\")\n",
    "print(label_)"
   ]
  },
  {
   "cell_type": "markdown",
   "id": "9340e35e",
   "metadata": {},
   "source": [
    "<b> Visualize training data </b>"
   ]
  },
  {
   "cell_type": "code",
   "execution_count": 5,
   "id": "7ae3cf37",
   "metadata": {},
   "outputs": [],
   "source": [
    "# Visual a list of images\n",
    "def visual_images(list_images):\n",
    "    nb_imgs = len(list_images)\n",
    "    # 5 images each column\n",
    "    nb_columns = 5 if nb_imgs >= 5 else nb_imgs\n",
    "    nb_rows = nb_imgs//5 + 1 if nb_imgs%5 != 0 else nb_imgs//5\n",
    "    fig, axs = plt.subplots(nb_rows, nb_columns, figsize=(2*nb_columns, 2*nb_rows))\n",
    "    for image, ax in zip(list_images, axs.flatten()):\n",
    "        ax.imshow(image, cmap='gray')\n",
    "        ax.axis('off')"
   ]
  },
  {
   "cell_type": "code",
   "execution_count": 6,
   "id": "e628ff69",
   "metadata": {},
   "outputs": [
    {
     "data": {
      "image/png": "[encoded data removed]",
      "text/plain": [
       "<Figure size 720x288 with 10 Axes>"
      ]
     },
     "metadata": {
      "needs_background": "light"
     },
     "output_type": "display_data"
    }
   ],
   "source": [
    "# Random pick some images in data set and visualize\n",
    "imgs = [data[i][j] for i in np.random.randint(0,35,5) for j in np.random.randint(0,39, 2)]\n",
    "visual_images(imgs)"
   ]
  },
  {
   "cell_type": "markdown",
   "id": "fe65284e",
   "metadata": {},
   "source": [
    "### RBM\n",
    "Using RBM on Binary Alphadigit to generate approximate images"
   ]
  },
  {
   "cell_type": "code",
   "execution_count": 7,
   "id": "e1659260",
   "metadata": {},
   "outputs": [],
   "source": [
    "#parameters\n",
    "\n",
    "# value of images to process\n",
    "index = [3, 5]\n",
    "lr = 0.1\n",
    "batch_size = 3\n",
    "iterations = 500"
   ]
  },
  {
   "cell_type": "code",
   "execution_count": 8,
   "id": "813e769d",
   "metadata": {},
   "outputs": [],
   "source": [
    "#get data of index values\n",
    "X = lire_alpha_digit(data, index)\n",
    "X = torch.from_numpy(X).to(device).float()"
   ]
  },
  {
   "cell_type": "code",
   "execution_count": 9,
   "id": "4ddba547",
   "metadata": {},
   "outputs": [
    {
     "name": "stdout",
     "output_type": "stream",
     "text": [
      "Training Started. 10 iterations.\n"
     ]
    },
    {
     "name": "stderr",
     "output_type": "stream",
     "text": [
      "100%|██████████████████████████████████████████████████████████████████████████████████| 10/10 [00:00<00:00, 26.51it/s]\n"
     ]
    },
    {
     "name": "stdout",
     "output_type": "stream",
     "text": [
      "End Training\n",
      "--------------\n",
      "Image generated with RBM of 10 trained epochs\n",
      "Generated 5 images\n"
     ]
    },
    {
     "data": {
      "image/png": "[encoded data removed]",
      "text/plain": [
       "<Figure size 720x144 with 5 Axes>"
      ]
     },
     "metadata": {
      "needs_background": "light"
     },
     "output_type": "display_data"
    }
   ],
   "source": [
    "# Initializing RBM\n",
    "rbm = RBM(320, 200)\n",
    "# Training RBM on data\n",
    "rbm.train_rbm(X, 10, lr, batch_size)\n",
    "print(\"Image generated with RBM of 10 trained epochs\")\n",
    "generated_images = rbm.generate_image(5, 500)\n",
    "visual_images(generated_images)"
   ]
  },
  {
   "cell_type": "code",
   "execution_count": 10,
   "id": "5ec252ea",
   "metadata": {},
   "outputs": [
    {
     "name": "stdout",
     "output_type": "stream",
     "text": [
      "Training Started. 1000 iterations.\n"
     ]
    },
    {
     "name": "stderr",
     "output_type": "stream",
     "text": [
      "100%|██████████████████████████████████████████████████████████████████████████████| 1000/1000 [00:31<00:00, 32.02it/s]\n"
     ]
    },
    {
     "name": "stdout",
     "output_type": "stream",
     "text": [
      "End Training\n",
      "--------------\n",
      "Image generated with RBM of 1000 trained epochs\n",
      "Generated 5 images\n"
     ]
    },
    {
     "data": {
      "image/png": "[encoded data removed]",
      "text/plain": [
       "<Figure size 720x144 with 5 Axes>"
      ]
     },
     "metadata": {
      "needs_background": "light"
     },
     "output_type": "display_data"
    }
   ],
   "source": [
    "# Initializing RBM\n",
    "rbm = RBM(320, 200)\n",
    "# Training RBM on data\n",
    "rbm.train_rbm(X, 1000, lr, batch_size)\n",
    "print(\"Image generated with RBM of 1000 trained epochs\")\n",
    "generated_images = rbm.generate_image(5, 500)\n",
    "visual_images(generated_images)"
   ]
  },
  {
   "cell_type": "markdown",
   "id": "47c88997",
   "metadata": {},
   "source": [
    "<div class=\"alert alert-success\">\n",
    "We can observe that RBM can generate images which are very similar to original images. Otherwise, this structure can learn distribution combined from distributions of several values. As in our example, it can learn at the same time the distribution of pixels in images of value 3 and 5. Then it can generate arbitrarily the image of number 3 or 5.\n",
    "</div>"
   ]
  },
  {
   "cell_type": "markdown",
   "id": "cc7bff1d",
   "metadata": {},
   "source": [
    "### DBN\n",
    "We construct the DBN structure as a chain of RBM with predefined number of nodes in hidden layers."
   ]
  },
  {
   "cell_type": "code",
   "execution_count": 11,
   "id": "39750bef",
   "metadata": {},
   "outputs": [],
   "source": [
    "class DBN():\n",
    "    \n",
    "    def __init__(self, p, q, hidden_dims, device=device):\n",
    "        self.DBN = []\n",
    "        hidden_dims_ = hidden_dims\n",
    "        hidden_dims_.append(q)\n",
    "        self.nb_layers = len(hidden_dims_)\n",
    "        self.dim_input = p\n",
    "        self.dim_output = q\n",
    "        self.device = device\n",
    "        \n",
    "\n",
    "        # Construct DNN as chain of RBMs\n",
    "        temp_dim_input = p\n",
    "        for temp_dim_output in hidden_dims_:\n",
    "            self.DBN.append(RBM(temp_dim_input, temp_dim_output, device=self.device))\n",
    "            temp_dim_input = temp_dim_output\n",
    "    \n",
    "    def pretrain_DNN(self, X, nb_epoch, lr, batch_size):\n",
    "        #X_train = X_train = torch.from_numpy(X).to(self.device).float()\n",
    "        X_train = X.to(device)\n",
    "        for i in range(self.nb_layers):\n",
    "            print(f\"Training layer {i}\")\n",
    "            self.DBN[i].train_rbm(X_train, nb_epoch, lr, batch_size)\n",
    "            X_train = self.DBN[i].entree_sortie_RBM(X_train)\n",
    "            #print(\"\\n\")\n",
    "    \n",
    "    def gibbs(self, input, iterations):\n",
    "        for n in range(iterations):\n",
    "            init_ = input.to(self.device)\n",
    "            for i in range(self.nb_layers):\n",
    "                init_ = self.DBN[i].entree_sortie_RBM(init_)\n",
    "            out_ = init_\n",
    "            for i in range(self.nb_layers):\n",
    "                idx_layer = self.nb_layers-i-1\n",
    "                out_ = self.DBN[idx_layer].sortie_entree_RBM(out_)\n",
    "        return out_\n",
    "    \n",
    "    def generer_image_DBN(self, nb_image, iterations):\n",
    "        output = []\n",
    "        for i in range(nb_image):\n",
    "            input_init = torch.rand(1, self.dim_input).to(self.device)\n",
    "            generated_image = self.gibbs(input_init, iterations)\n",
    "            generated_image = generated_image.detach().cpu().numpy()\n",
    "            generated_image =  np.reshape(generated_image, (20, 16))\n",
    "            generated_image = np.round(generated_image)\n",
    "            output.append(generated_image)\n",
    "            \n",
    "        print(f\"Generated {nb_image} images.\")\n",
    "        return output"
   ]
  },
  {
   "cell_type": "code",
   "execution_count": 12,
   "id": "5397b704",
   "metadata": {},
   "outputs": [],
   "source": [
    "# parameters\n",
    "X = lire_alpha_digit(data, [10, 28, 30])\n",
    "X = torch.from_numpy(X).to(device).float()\n",
    "hidden_nodes = [100, 200, 200, 100]\n",
    "epochs = 10\n",
    "lr = 0.1\n",
    "batch_size = 3"
   ]
  },
  {
   "cell_type": "code",
   "execution_count": 13,
   "id": "c63ad915",
   "metadata": {},
   "outputs": [
    {
     "name": "stdout",
     "output_type": "stream",
     "text": [
      "Training layer 0\n",
      "Training Started. 10 iterations.\n"
     ]
    },
    {
     "name": "stderr",
     "output_type": "stream",
     "text": [
      "100%|██████████████████████████████████████████████████████████████████████████████████| 10/10 [00:00<00:00, 26.90it/s]\n"
     ]
    },
    {
     "name": "stdout",
     "output_type": "stream",
     "text": [
      "End Training\n",
      "--------------\n",
      "Training layer 1\n",
      "Training Started. 10 iterations.\n"
     ]
    },
    {
     "name": "stderr",
     "output_type": "stream",
     "text": [
      "100%|██████████████████████████████████████████████████████████████████████████████████| 10/10 [00:00<00:00, 22.96it/s]\n"
     ]
    },
    {
     "name": "stdout",
     "output_type": "stream",
     "text": [
      "End Training\n",
      "--------------\n",
      "Training layer 2\n",
      "Training Started. 10 iterations.\n"
     ]
    },
    {
     "name": "stderr",
     "output_type": "stream",
     "text": [
      "100%|██████████████████████████████████████████████████████████████████████████████████| 10/10 [00:00<00:00, 24.52it/s]\n"
     ]
    },
    {
     "name": "stdout",
     "output_type": "stream",
     "text": [
      "End Training\n",
      "--------------\n",
      "Training layer 3\n",
      "Training Started. 10 iterations.\n"
     ]
    },
    {
     "name": "stderr",
     "output_type": "stream",
     "text": [
      "100%|██████████████████████████████████████████████████████████████████████████████████| 10/10 [00:00<00:00, 26.70it/s]\n"
     ]
    },
    {
     "name": "stdout",
     "output_type": "stream",
     "text": [
      "End Training\n",
      "--------------\n",
      "Training layer 4\n",
      "Training Started. 10 iterations.\n"
     ]
    },
    {
     "name": "stderr",
     "output_type": "stream",
     "text": [
      "100%|██████████████████████████████████████████████████████████████████████████████████| 10/10 [00:00<00:00, 27.62it/s]"
     ]
    },
    {
     "name": "stdout",
     "output_type": "stream",
     "text": [
      "End Training\n",
      "--------------\n"
     ]
    },
    {
     "name": "stderr",
     "output_type": "stream",
     "text": [
      "\n"
     ]
    }
   ],
   "source": [
    "# Get DBN structure\n",
    "DBN = DBN(320, 100, hidden_nodes, device)\n",
    "DBN.pretrain_DNN(X, epochs, lr, batch_size)"
   ]
  },
  {
   "cell_type": "code",
   "execution_count": null,
   "id": "2b9a0c65",
   "metadata": {},
   "outputs": [],
   "source": [
    "generated_images = DBN.generer_image_DBN(10 , 500)\n",
    "print(len(generated_images))\n",
    "visual_images(generated_images)"
   ]
  },
  {
   "cell_type": "markdown",
   "id": "ad05436b",
   "metadata": {},
   "source": [
    "<div class =\"alert alert-success\">\n",
    "We can observe that DBN works well with smaller number of training epochs in comparing to RBM. RBM needs more epochs to get the same quality as DBN. It is evident because DBN is a combination of several RBM and is more complexe than RBM.\n",
    "</div>"
   ]
  },
  {
   "cell_type": "markdown",
   "id": "040d1228",
   "metadata": {},
   "source": [
    "### DNN\n",
    "\n",
    "We will create a DNN (DBN with classification head) and then train it from scratch and verify its accuracy"
   ]
  },
  {
   "cell_type": "code",
   "execution_count": 4,
   "id": "c2f9d3bc",
   "metadata": {},
   "outputs": [
    {
     "name": "stderr",
     "output_type": "stream",
     "text": [
      "2022-04-17 03:42:05.250039: W tensorflow/stream_executor/platform/default/dso_loader.cc:64] Could not load dynamic library 'libcudart.so.11.0'; dlerror: libcudart.so.11.0: cannot open shared object file: No such file or directory\n",
      "2022-04-17 03:42:05.250072: I tensorflow/stream_executor/cuda/cudart_stub.cc:29] Ignore above cudart dlerror if you do not have a GPU set up on your machine.\n"
     ]
    }
   ],
   "source": [
    "from keras.datasets import mnist\n",
    "\n",
    "(train_X, train_y), (test_X, test_y) = mnist.load_data()\n",
    "\n",
    "# Variable binaire\n",
    "train_X = train_X > 127\n",
    "test_X  = test_X > 127\n",
    "\n",
    "# Reshape pour respect le format attendu par le modéle\n",
    "train_X = train_X.reshape(train_X.shape[0], train_X.shape[1]*train_X.shape[2])\n",
    "test_X = test_X.reshape(test_X.shape[0], test_X.shape[1]*test_X.shape[2])\n",
    "\n",
    "\n",
    "tmp = np.zeros((test_y.shape[0],10))\n",
    "tmp_2 = np.zeros((train_y.shape[0],10))\n",
    "\n",
    "for i in range(len(test_y)):\n",
    "    tmp[i, test_y[i]] = 1\n",
    "\n",
    "for i in range(len(train_y)):\n",
    "    tmp_2[i, train_y[i]] = 1\n",
    "test_y = tmp\n",
    "train_y = tmp_2\n",
    "\n",
    "del tmp, tmp_2"
   ]
  },
  {
   "cell_type": "code",
   "execution_count": 5,
   "id": "10185602",
   "metadata": {},
   "outputs": [],
   "source": [
    "size = 0.8\n",
    "\n",
    "train_idx = np.random.randint(0, train_X.shape[0], int(train_X.shape[0]*size))\n",
    "test_idx = np.random.randint(0, test_X.shape[0], int(test_X.shape[0]*size))\n",
    "\n",
    "X_train = train_X[train_idx]\n",
    "Y_train = train_y[train_idx]\n",
    "\n",
    "X_test  = test_X[test_idx]\n",
    "Y_test  = test_y[test_idx]\n",
    "\n",
    "#########\n",
    "\n",
    "X_train = torch.from_numpy(X_train).to(device).float()\n",
    "Y_train = torch.from_numpy(Y_train).to(device).float()\n",
    "X_test = torch.from_numpy(X_test).to(device).float()\n",
    "Y_test = torch.from_numpy(Y_test).to(device).float()\n"
   ]
  },
  {
   "cell_type": "code",
   "execution_count": 12,
   "id": "704db73d",
   "metadata": {},
   "outputs": [],
   "source": [
    "nb_epochs_pretrain = 200\n",
    "nb_epochs_scratch = 100\n",
    "lr = 0.1\n",
    "batch_size = 64\n",
    "input_shape = X_train.shape[1]\n",
    "nb_class = Y_train.shape[1]\n",
    "hidden_layers = [150, 200]"
   ]
  },
  {
   "cell_type": "code",
   "execution_count": 8,
   "id": "5faa90f6",
   "metadata": {},
   "outputs": [],
   "source": [
    "DNN_ = DNN(input_shape, nb_class, hidden_layers)"
   ]
  },
  {
   "cell_type": "code",
   "execution_count": 9,
   "id": "f58b07ed",
   "metadata": {},
   "outputs": [
    {
     "name": "stderr",
     "output_type": "stream",
     "text": [
      "100%|███████████████████████████████████████████████████| 100/100 [00:34<00:00, 2.90it/s, loss =nan]\n"
     ]
    }
   ],
   "source": [
    "DNN_, loss_tracking = retropropagation(DNN_, input = X_train, label = Y_train, epochs = nb_epochs_scratch, lr = lr, batch_size = batch_size)"
   ]
  },
  {
   "cell_type": "code",
   "execution_count": 10,
   "id": "2313504f",
   "metadata": {},
   "outputs": [
    {
     "name": "stdout",
     "output_type": "stream",
     "text": [
      "Accuracy: 0.96525\n"
     ]
    },
    {
     "data": {
      "text/plain": [
       "(0.23928190612792968, 0.96525)"
      ]
     },
     "execution_count": 10,
     "metadata": {},
     "output_type": "execute_result"
    }
   ],
   "source": [
    "test_DNN(DNN_, X_test, Y_test)"
   ]
  },
  {
   "cell_type": "markdown",
   "id": "517e43c8",
   "metadata": {},
   "source": [
    "Pretrained DNN"
   ]
  },
  {
   "cell_type": "code",
   "execution_count": 11,
   "id": "d575cd2f",
   "metadata": {},
   "outputs": [],
   "source": [
    "DNN_pretrained = DNN(input_shape, nb_class, hidden_layers)"
   ]
  },
  {
   "cell_type": "code",
   "execution_count": 13,
   "id": "5f13feea",
   "metadata": {},
   "outputs": [
    {
     "name": "stdout",
     "output_type": "stream",
     "text": [
      "Training layer 0\n",
      "Training Started. 200 iterations.\n"
     ]
    },
    {
     "name": "stderr",
     "output_type": "stream",
     "text": [
      "100%|█████████████████████████████████████████████████████████████████████████████████| 200/200 [02:03<00:00,  1.61it/s]\n"
     ]
    },
    {
     "name": "stdout",
     "output_type": "stream",
     "text": [
      "End Training\n",
      "--------------\n",
      "Training layer 1\n",
      "Training Started. 200 iterations.\n"
     ]
    },
    {
     "name": "stderr",
     "output_type": "stream",
     "text": [
      "100%|█████████████████████████████████████████████████████████████████████████████████| 200/200 [01:33<00:00,  2.13it/s]"
     ]
    },
    {
     "name": "stdout",
     "output_type": "stream",
     "text": [
      "End Training\n",
      "--------------\n"
     ]
    },
    {
     "name": "stderr",
     "output_type": "stream",
     "text": [
      "\n"
     ]
    }
   ],
   "source": [
    "DNN_pretrained.pretrain_DNN(X_train, nb_epochs_pretrain, lr, batch_size)"
   ]
  },
  {
   "cell_type": "code",
   "execution_count": 14,
   "id": "3aa52349",
   "metadata": {},
   "outputs": [
    {
     "name": "stderr",
     "output_type": "stream",
     "text": [
      "100%|███████████████████████████████████████████████| 100/100 [00:33<00:00, 2.96it/s, loss =0.00006]\n"
     ]
    }
   ],
   "source": [
    "DNN_, loss = retropropagation(DNN_pretrained, input = X_train, label = Y_train, epochs = nb_epochs_scratch, lr = lr, batch_size = batch_size)"
   ]
  },
  {
   "cell_type": "code",
   "execution_count": 16,
   "id": "29a4ca59",
   "metadata": {},
   "outputs": [
    {
     "data": {
      "text/plain": [
       "[<matplotlib.lines.Line2D at 0x7f9f242849d0>]"
      ]
     },
     "execution_count": 16,
     "metadata": {},
     "output_type": "execute_result"
    },
    {
     "data": {
      "image/png": "[encoded data removed]",
      "text/plain": [
       "<Figure size 432x288 with 1 Axes>"
      ]
     },
     "metadata": {
      "needs_background": "light"
     },
     "output_type": "display_data"
    }
   ],
   "source": [
    "plt.plot(loss)"
   ]
  },
  {
   "cell_type": "code",
   "execution_count": 17,
   "id": "20403619",
   "metadata": {},
   "outputs": [
    {
     "name": "stdout",
     "output_type": "stream",
     "text": [
      "Accuracy: 0.9715\n"
     ]
    },
    {
     "data": {
      "text/plain": [
       "(0.14502911376953126, 0.9715)"
      ]
     },
     "execution_count": 17,
     "metadata": {},
     "output_type": "execute_result"
    }
   ],
   "source": [
    "test_DNN(DNN_pretrained, X_test, Y_test)"
   ]
  },
  {
   "cell_type": "code",
   "execution_count": null,
   "id": "a11d1c53",
   "metadata": {},
   "outputs": [],
   "source": []
  }
 ],
 "metadata": {
  "kernelspec": {
   "display_name": "Python 3 (ipykernel)",
   "language": "python",
   "name": "python3"
  },
  "language_info": {
   "codemirror_mode": {
    "name": "ipython",
    "version": 3
   },
   "file_extension": ".py",
   "mimetype": "text/x-python",
   "name": "python",
   "nbconvert_exporter": "python",
   "pygments_lexer": "ipython3",
   "version": "3.9.7"
  }
 },
 "nbformat": 4,
 "nbformat_minor": 5
}
