{
 "cells": [
  {
   "cell_type": "code",
   "execution_count": 1,
   "id": "7ed69fdd",
   "metadata": {},
   "outputs": [],
   "source": [
    "import numpy as np\n",
    "import matplotlib.pyplot as plt\n",
    "import scipy.io as scio\n",
    "from RBM import *\n",
    "from principal_DNN_mnist import *\n",
    "from pathlib import Path"
   ]
  },
  {
   "cell_type": "code",
   "execution_count": 2,
   "id": "a18a2c7f",
   "metadata": {},
   "outputs": [],
   "source": [
    "data_path = Path(\".\") / \"data\"/ \"binaryalphadigs.mat\""
   ]
  },
  {
   "cell_type": "code",
   "execution_count": 3,
   "id": "4367c7ea",
   "metadata": {},
   "outputs": [
    {
     "name": "stdout",
     "output_type": "stream",
     "text": [
      "Label with their indices:\n",
      "{0: '0', 1: '1', 2: '2', 3: '3', 4: '4', 5: '5', 6: '6', 7: '7', 8: '8', 9: '9', 10: 'A', 11: 'B', 12: 'C', 13: 'D', 14: 'E', 15: 'F', 16: 'G', 17: 'H', 18: 'I', 19: 'J', 20: 'K', 21: 'L', 22: 'M', 23: 'N', 24: 'O', 25: 'P', 26: 'Q', 27: 'R', 28: 'S', 29: 'T', 30: 'U', 31: 'V', 32: 'W', 33: 'X', 34: 'Y', 35: 'Z'}\n"
     ]
    }
   ],
   "source": [
    "data_mat = scio.loadmat(data_path)\n",
    "data = data_mat['dat']\n",
    "label = data_mat['classlabels'][0]\n",
    "label_ = {i:label[i][0] for i in range(len(label))}\n",
    "print(\"Label with their indices:\")\n",
    "print(label_)"
   ]
  },
  {
   "cell_type": "markdown",
   "id": "9340e35e",
   "metadata": {},
   "source": [
    "<b> Visualize training data </b>"
   ]
  },
  {
   "cell_type": "code",
   "execution_count": 4,
   "id": "7ae3cf37",
   "metadata": {},
   "outputs": [],
   "source": [
    "# Visual a list of images\n",
    "def visual_images(list_images):\n",
    "    nb_imgs = len(list_images)\n",
    "    # 5 images each column\n",
    "    nb_columns = 5 if nb_imgs >= 5 else nb_imgs\n",
    "    nb_rows = nb_imgs//5 + 1 if nb_imgs%5 != 0 else nb_imgs//5\n",
    "    fig, axs = plt.subplots(nb_rows, nb_columns, figsize=(2*nb_columns, 2*nb_rows))\n",
    "    for image, ax in zip(list_images, axs.flatten()):\n",
    "        ax.imshow(image, cmap='gray')\n",
    "        ax.axis('off')"
   ]
  },
  {
   "cell_type": "code",
   "execution_count": 5,
   "id": "e628ff69",
   "metadata": {},
   "outputs": [
    {
     "data": {
      "image/png": "[encoded data removed]",
      "text/plain": [
       "<Figure size 720x288 with 10 Axes>"
      ]
     },
     "metadata": {
      "needs_background": "light"
     },
     "output_type": "display_data"
    }
   ],
   "source": [
    "# Random pick some images in data set and visualize\n",
    "imgs = [data[i][j] for i in np.random.randint(0,35,5) for j in np.random.randint(0,39, 2)]\n",
    "visual_images(imgs)"
   ]
  },
  {
   "cell_type": "markdown",
   "id": "fe65284e",
   "metadata": {},
   "source": [
    "### RBM\n",
    "Using RBM on Binary Alphadigit to generate approximate images"
   ]
  },
  {
   "cell_type": "code",
   "execution_count": 6,
   "id": "e1659260",
   "metadata": {},
   "outputs": [],
   "source": [
    "#parameters\n",
    "\n",
    "# value of images to process\n",
    "index = [3, 5]\n",
    "lr = 0.1\n",
    "batch_size = 3\n",
    "iterations = 500"
   ]
  },
  {
   "cell_type": "code",
   "execution_count": 7,
   "id": "813e769d",
   "metadata": {},
   "outputs": [],
   "source": [
    "#get data of index values\n",
    "X = lire_alpha_digit(data, index)"
   ]
  },
  {
   "cell_type": "code",
   "execution_count": 8,
   "id": "4ddba547",
   "metadata": {},
   "outputs": [
    {
     "name": "stdout",
     "output_type": "stream",
     "text": [
      "Training Started. 10 iterations.\n"
     ]
    },
    {
     "name": "stderr",
     "output_type": "stream",
     "text": [
      "100%|███████████████████████████████████████████████████████████████████████████████████| 10/10 [00:00<00:00, 33.92it/s]\n"
     ]
    },
    {
     "name": "stdout",
     "output_type": "stream",
     "text": [
      "End Training\n",
      "--------------\n",
      "Image generated with RBM of 10 trained epochs\n",
      "Generated 5 images\n"
     ]
    },
    {
     "data": {
      "image/png": "[encoded data removed]",
      "text/plain": [
       "<Figure size 720x144 with 5 Axes>"
      ]
     },
     "metadata": {
      "needs_background": "light"
     },
     "output_type": "display_data"
    }
   ],
   "source": [
    "# Initializing RBM\n",
    "rbm = RBM(320, 200)\n",
    "# Training RBM on data\n",
    "rbm.fit(X, 10, lr, batch_size)\n",
    "print(\"Image generated with RBM of 10 trained epochs\")\n",
    "generated_images = rbm.generate_image(5, 500)\n",
    "visual_images(generated_images)"
   ]
  },
  {
   "cell_type": "code",
   "execution_count": 9,
   "id": "5ec252ea",
   "metadata": {},
   "outputs": [
    {
     "name": "stdout",
     "output_type": "stream",
     "text": [
      "Training Started. 1000 iterations.\n"
     ]
    },
    {
     "name": "stderr",
     "output_type": "stream",
     "text": [
      "100%|███████████████████████████████████████████████████████████████████████████████| 1000/1000 [00:30<00:00, 33.03it/s]\n"
     ]
    },
    {
     "name": "stdout",
     "output_type": "stream",
     "text": [
      "End Training\n",
      "--------------\n",
      "Image generated with RBM of 1000 trained epochs\n",
      "Generated 5 images\n"
     ]
    },
    {
     "data": {
      "image/png": "[encoded data removed]",
      "text/plain": [
       "<Figure size 720x144 with 5 Axes>"
      ]
     },
     "metadata": {
      "needs_background": "light"
     },
     "output_type": "display_data"
    }
   ],
   "source": [
    "# Initializing RBM\n",
    "rbm = RBM(320, 200)\n",
    "# Training RBM on data\n",
    "rbm.fit(X, 1000, lr, batch_size)\n",
    "print(\"Image generated with RBM of 1000 trained epochs\")\n",
    "generated_images = rbm.generate_image(5, 500)\n",
    "visual_images(generated_images)"
   ]
  },
  {
   "cell_type": "markdown",
   "id": "47c88997",
   "metadata": {},
   "source": [
    "<div class=\"alert alert-success\">\n",
    "We can observe that RBM can generate images which are very similar to original images. Otherwise, this structure can learn distribution combined from distributions of several values. As in our example, it can learn at the same time the distribution of pixels in images of value 3 and 5. Then it can generate arbitrarily the image of number 3 or 5.\n",
    "</div>"
   ]
  },
  {
   "cell_type": "markdown",
   "id": "cc7bff1d",
   "metadata": {},
   "source": [
    "### DBN\n",
    "We construct the DBN structure as a chain of RBM with predefined number of nodes in hidden layers."
   ]
  },
  {
   "cell_type": "code",
   "execution_count": 2,
   "id": "39750bef",
   "metadata": {},
   "outputs": [],
   "source": [
    "class DNN():\n",
    "    \n",
    "    def __init__(self, p, q, hidden_dims):\n",
    "        self.DNN = []\n",
    "        hidden_dims_ = hidden_dims\n",
    "        hidden_dims_.append(q)\n",
    "        self.nb_layers = len(hidden_dims_)\n",
    "        self.dim_input = p\n",
    "        self.dim_output = q\n",
    "\n",
    "        # Construct DNN as chain of DBMs\n",
    "        temp_dim_input = p\n",
    "        for temp_dim_output in hidden_dims_:\n",
    "            self.DNN.append(RBM(temp_dim_input, temp_dim_output))\n",
    "            temp_dim_input = temp_dim_output\n",
    "    \n",
    "    def pretrain_DNN(self, X, nb_epoch, lr, batch_size):\n",
    "        X_train = X\n",
    "        for i in range(self.nb_layers):\n",
    "            print(f\"Training layer {i}\")\n",
    "            self.DNN[i].fit(X_train, nb_epoch, lr, batch_size)\n",
    "            X_train = self.DNN[i].entree_sortie_RBM(X_train)\n",
    "            #print(\"\\n\")\n",
    "    \n",
    "    def gibbs(self, input, iterations):\n",
    "        for n in range(iterations):\n",
    "            init_ = input\n",
    "            for i in range(self.nb_layers):\n",
    "                init_ = self.DNN[i].entree_sortie_RBM(init_)\n",
    "            out_ = init_\n",
    "            for i in range(self.nb_layers):\n",
    "                idx_layer = self.nb_layers-i-1\n",
    "                out_ = self.DNN[idx_layer].sortie_entree_RBM(out_)\n",
    "        return out_\n",
    "    \n",
    "    def generer_image_DBN(self, nb_image, iterations):\n",
    "        output = []\n",
    "        for i in range(nb_image):\n",
    "            input_init = np.random.rand(1, self.dim_input)\n",
    "            generated_image = self.gibbs(input_init, iterations)\n",
    "            generated_image =  np.reshape(generated_image, (20, 16))\n",
    "            generated_image = np.round(generated_image)\n",
    "            output.append(generated_image)\n",
    "        print(f\"Generated {nb_image} images.\")\n",
    "        return output"
   ]
  },
  {
   "cell_type": "code",
   "execution_count": 3,
   "id": "5397b704",
   "metadata": {},
   "outputs": [
    {
     "ename": "NameError",
     "evalue": "name 'data' is not defined",
     "output_type": "error",
     "traceback": [
      "\u001b[0;31m---------------------------------------------------------------------------\u001b[0m",
      "\u001b[0;31mNameError\u001b[0m                                 Traceback (most recent call last)",
      "Input \u001b[0;32mIn [3]\u001b[0m, in \u001b[0;36m<cell line: 2>\u001b[0;34m()\u001b[0m\n\u001b[1;32m      1\u001b[0m \u001b[38;5;66;03m# parameters\u001b[39;00m\n\u001b[0;32m----> 2\u001b[0m X \u001b[38;5;241m=\u001b[39m lire_alpha_digit(\u001b[43mdata\u001b[49m, [\u001b[38;5;241m10\u001b[39m, \u001b[38;5;241m28\u001b[39m, \u001b[38;5;241m30\u001b[39m])\n\u001b[1;32m      3\u001b[0m hidden_nodes \u001b[38;5;241m=\u001b[39m [\u001b[38;5;241m100\u001b[39m, \u001b[38;5;241m200\u001b[39m, \u001b[38;5;241m200\u001b[39m, \u001b[38;5;241m100\u001b[39m]\n\u001b[1;32m      4\u001b[0m epochs \u001b[38;5;241m=\u001b[39m \u001b[38;5;241m100\u001b[39m\n",
      "\u001b[0;31mNameError\u001b[0m: name 'data' is not defined"
     ]
    }
   ],
   "source": [
    "# parameters\n",
    "X = lire_alpha_digit(data, [10, 28, 30])\n",
    "hidden_nodes = [100, 200, 200, 100]\n",
    "epochs = 100\n",
    "lr = 0.1\n",
    "batch_size = 3"
   ]
  },
  {
   "cell_type": "code",
   "execution_count": 30,
   "id": "c63ad915",
   "metadata": {},
   "outputs": [
    {
     "name": "stdout",
     "output_type": "stream",
     "text": [
      "Training layer 0\n",
      "Training Started. 100 iterations.\n"
     ]
    },
    {
     "name": "stderr",
     "output_type": "stream",
     "text": [
      "100%|█████████████████████████████████████████████████████████████████████████████████| 100/100 [00:02<00:00, 37.09it/s]\n"
     ]
    },
    {
     "name": "stdout",
     "output_type": "stream",
     "text": [
      "End Training\n",
      "--------------\n",
      "Training layer 1\n",
      "Training Started. 100 iterations.\n"
     ]
    },
    {
     "name": "stderr",
     "output_type": "stream",
     "text": [
      "100%|█████████████████████████████████████████████████████████████████████████████████| 100/100 [00:02<00:00, 46.67it/s]\n"
     ]
    },
    {
     "name": "stdout",
     "output_type": "stream",
     "text": [
      "End Training\n",
      "--------------\n",
      "Training layer 2\n",
      "Training Started. 100 iterations.\n"
     ]
    },
    {
     "name": "stderr",
     "output_type": "stream",
     "text": [
      "100%|█████████████████████████████████████████████████████████████████████████████████| 100/100 [00:03<00:00, 30.99it/s]\n"
     ]
    },
    {
     "name": "stdout",
     "output_type": "stream",
     "text": [
      "End Training\n",
      "--------------\n",
      "Training layer 3\n",
      "Training Started. 100 iterations.\n"
     ]
    },
    {
     "name": "stderr",
     "output_type": "stream",
     "text": [
      "100%|█████████████████████████████████████████████████████████████████████████████████| 100/100 [00:01<00:00, 50.35it/s]\n"
     ]
    },
    {
     "name": "stdout",
     "output_type": "stream",
     "text": [
      "End Training\n",
      "--------------\n",
      "Training layer 4\n",
      "Training Started. 100 iterations.\n"
     ]
    },
    {
     "name": "stderr",
     "output_type": "stream",
     "text": [
      "100%|█████████████████████████████████████████████████████████████████████████████████| 100/100 [00:01<00:00, 70.48it/s]"
     ]
    },
    {
     "name": "stdout",
     "output_type": "stream",
     "text": [
      "End Training\n",
      "--------------\n"
     ]
    },
    {
     "name": "stderr",
     "output_type": "stream",
     "text": [
      "\n"
     ]
    }
   ],
   "source": [
    "# Get DBN structure\n",
    "DBN = DNN(320, 100, hidden_nodes)\n",
    "DBN.pretrain_DNN(X, epochs, lr, batch_size)"
   ]
  },
  {
   "cell_type": "code",
   "execution_count": 33,
   "id": "2b9a0c65",
   "metadata": {},
   "outputs": [
    {
     "name": "stdout",
     "output_type": "stream",
     "text": [
      "Generated 10 images.\n",
      "10\n"
     ]
    },
    {
     "data": {
      "image/png": "[encoded data removed]",
      "text/plain": [
       "<Figure size 720x288 with 10 Axes>"
      ]
     },
     "metadata": {
      "needs_background": "light"
     },
     "output_type": "display_data"
    }
   ],
   "source": [
    "generated_images = DBN.generer_image_DBN(10 , 500)\n",
    "print(len(generated_images))\n",
    "visual_images(generated_images)"
   ]
  },
  {
   "cell_type": "markdown",
   "id": "ad05436b",
   "metadata": {},
   "source": [
    "<div class =\"alert alert-success\">\n",
    "We can observe that DBN works well with smaller number of training epochs in comparing to RBM. RBM needs more epochs to get the same quality as DBN. It is evident because DBN is a combination of several RBM and is more complexe than RBM.\n",
    "</div>"
   ]
  },
  {
   "cell_type": "markdown",
   "id": "040d1228",
   "metadata": {},
   "source": [
    "### DNN"
   ]
  },
  {
   "cell_type": "code",
   "execution_count": 45,
   "id": "c2f9d3bc",
   "metadata": {},
   "outputs": [],
   "source": [
    "from keras.datasets import mnist\n",
    "\n",
    "(train_X, train_y), (test_X, test_y) = mnist.load_data()\n",
    "\n",
    "# Variable binaire\n",
    "train_X = train_X > 127\n",
    "test_X  = test_X > 127\n",
    "\n",
    "# Reshape pour respect le format attendu par le modéle\n",
    "train_X = train_X.reshape(train_X.shape[0], train_X.shape[1]*train_X.shape[2])\n",
    "test_X = test_X.reshape(test_X.shape[0], test_X.shape[1]*test_X.shape[2])\n",
    "\n",
    "\n",
    "tmp = np.zeros((test_y.shape[0],10))\n",
    "tmp_2 = np.zeros((train_y.shape[0],10))\n",
    "\n",
    "for i in range(len(test_y)):\n",
    "    tmp[i, test_y[i]] = 1\n",
    "\n",
    "for i in range(len(train_y)):\n",
    "    tmp_2[i, train_y[i]] = 1\n",
    "test_y = tmp\n",
    "train_y = tmp_2\n",
    "\n",
    "del tmp, tmp_2"
   ]
  },
  {
   "cell_type": "code",
   "execution_count": 58,
   "id": "10185602",
   "metadata": {},
   "outputs": [],
   "source": [
    "size = 0.8\n",
    "#Pick 50% to data in our work\n",
    "train_idx = np.random.randint(0, train_X.shape[0], int(train_X.shape[0]*size))\n",
    "test_idx = np.random.randint(0, test_X.shape[0], int(test_X.shape[0]*size))\n",
    "\n",
    "X_train = train_X[train_idx]\n",
    "Y_train = train_y[train_idx]\n",
    "\n",
    "# X_test  = test_X[cut_:int(1.3*cut_)]\n",
    "# Y_test  = test_y[cut_:int(1.3*cut_)]\n",
    "X_test  = test_X[test_idx]\n",
    "Y_test  = test_y[test_idx]"
   ]
  },
  {
   "cell_type": "code",
   "execution_count": 59,
   "id": "704db73d",
   "metadata": {},
   "outputs": [],
   "source": [
    "n_epoch_pre_train = 100\n",
    "n_epoch_train     = 200\n",
    "lr                = 0.1\n",
    "batch_size        = 64\n",
    "p                 = X_train.shape[1]\n",
    "n_classe          = Y_train.shape[1]\n",
    "hid_layers        = [100, 200]"
   ]
  },
  {
   "cell_type": "code",
   "execution_count": 60,
   "id": "5faa90f6",
   "metadata": {},
   "outputs": [],
   "source": [
    "DNN_ = DNN(p, n_classe, hid_layers)"
   ]
  },
  {
   "cell_type": "code",
   "execution_count": 7,
   "id": "237fe8bd",
   "metadata": {},
   "outputs": [
    {
     "name": "stdout",
     "output_type": "stream",
     "text": [
      "Training layer 0\n",
      "Training Started. 100 iterations.\n"
     ]
    },
    {
     "name": "stderr",
     "output_type": "stream",
     "text": [
      "100%|█████████████████████████████████████████████████████████████████████████████████| 100/100 [08:19<00:00,  5.00s/it]\n"
     ]
    },
    {
     "name": "stdout",
     "output_type": "stream",
     "text": [
      "End Training\n",
      "--------------\n",
      "Training layer 1\n",
      "Training Started. 100 iterations.\n"
     ]
    },
    {
     "name": "stderr",
     "output_type": "stream",
     "text": [
      "100%|█████████████████████████████████████████████████████████████████████████████████| 100/100 [04:43<00:00,  2.84s/it]\n"
     ]
    },
    {
     "name": "stdout",
     "output_type": "stream",
     "text": [
      "End Training\n",
      "--------------\n"
     ]
    }
   ],
   "source": [
    "#DNN_.pretrain_DNN(X_train, n_epoch_pre_train, lr, batch_size)"
   ]
  },
  {
   "cell_type": "code",
   "execution_count": 61,
   "id": "f58b07ed",
   "metadata": {},
   "outputs": [
    {
     "name": "stderr",
     "output_type": "stream",
     "text": [
      "100%|█████████████████████████████████████████████| 50.0/50.0 [01:55<00:00, 2.31s/it, loss =0.00209]\n"
     ]
    }
   ],
   "source": [
    "DNN_, hist = retropropagation(DNN_, input = X_train, label = Y_train, epochs = 50, lr = lr, batch_size = batch_size)"
   ]
  },
  {
   "cell_type": "code",
   "execution_count": 62,
   "id": "c02aa83d",
   "metadata": {},
   "outputs": [
    {
     "data": {
      "text/plain": [
       "[<matplotlib.lines.Line2D at 0x7f6124c51880>]"
      ]
     },
     "execution_count": 62,
     "metadata": {},
     "output_type": "execute_result"
    },
    {
     "data": {
      "image/png": "[encoded data removed]",
      "text/plain": [
       "<Figure size 432x288 with 1 Axes>"
      ]
     },
     "metadata": {
      "needs_background": "light"
     },
     "output_type": "display_data"
    }
   ],
   "source": [
    "hist = [hist[i].to(\"cpu\").detach().numpy() for i in range(len(hist))]\n",
    "plt.plot(hist)"
   ]
  },
  {
   "cell_type": "code",
   "execution_count": 65,
   "id": "6391d77c",
   "metadata": {},
   "outputs": [
    {
     "name": "stdout",
     "output_type": "stream",
     "text": [
      "We have an accuracy of 96.05% \n",
      " and a entropy loss of 0.242\n"
     ]
    }
   ],
   "source": [
    "out = entre_sortie_reseau(DNN_, X_test)\n",
    "y_hat = out[-1]\n",
    "y_hat = y_hat.to('cpu').detach().numpy()\n",
    "loss  = -np.sum(Y_test*np.log(y_hat+1e-9))/y_hat.shape[0]\n",
    "y_hat = (y_hat > 0.5)*1\n",
    "accuracy = accuracy_score(Y_test, y_hat)\n",
    "print(f'We have an accuracy of {np.round(accuracy*100,3)}% \\n and a entropy loss of {np.round(loss,3)}')"
   ]
  },
  {
   "cell_type": "code",
   "execution_count": null,
   "id": "4c748481",
   "metadata": {},
   "outputs": [],
   "source": []
  }
 ],
 "metadata": {
  "kernelspec": {
   "display_name": "Python 3 (ipykernel)",
   "language": "python",
   "name": "python3"
  },
  "language_info": {
   "codemirror_mode": {
    "name": "ipython",
    "version": 3
   },
   "file_extension": ".py",
   "mimetype": "text/x-python",
   "name": "python",
   "nbconvert_exporter": "python",
   "pygments_lexer": "ipython3",
   "version": "3.9.7"
  }
 },
 "nbformat": 4,
 "nbformat_minor": 5
}
