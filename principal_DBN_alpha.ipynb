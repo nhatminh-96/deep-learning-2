{
 "cells": [
  {
   "cell_type": "code",
   "execution_count": 1,
   "id": "7ed69fdd",
   "metadata": {},
   "outputs": [],
   "source": [
    "import numpy as np\n",
    "import matplotlib.pyplot as plt\n",
    "import scipy.io as scio\n",
    "from RBM import *\n",
    "from pathlib import Path"
   ]
  },
  {
   "cell_type": "code",
   "execution_count": 2,
   "id": "a18a2c7f",
   "metadata": {},
   "outputs": [],
   "source": [
    "data_path = Path(\".\") / \"data\"/ \"binaryalphadigs.mat\""
   ]
  },
  {
   "cell_type": "code",
   "execution_count": 3,
   "id": "4367c7ea",
   "metadata": {},
   "outputs": [
    {
     "name": "stdout",
     "output_type": "stream",
     "text": [
      "Label with their indices:\n",
      "{0: '0', 1: '1', 2: '2', 3: '3', 4: '4', 5: '5', 6: '6', 7: '7', 8: '8', 9: '9', 10: 'A', 11: 'B', 12: 'C', 13: 'D', 14: 'E', 15: 'F', 16: 'G', 17: 'H', 18: 'I', 19: 'J', 20: 'K', 21: 'L', 22: 'M', 23: 'N', 24: 'O', 25: 'P', 26: 'Q', 27: 'R', 28: 'S', 29: 'T', 30: 'U', 31: 'V', 32: 'W', 33: 'X', 34: 'Y', 35: 'Z'}\n"
     ]
    }
   ],
   "source": [
    "data_mat = scio.loadmat(data_path)\n",
    "data = data_mat['dat']\n",
    "label = data_mat['classlabels'][0]\n",
    "label_ = {i:label[i][0] for i in range(len(label))}\n",
    "print(\"Label with their indices:\")\n",
    "print(label_)"
   ]
  },
  {
   "cell_type": "markdown",
   "id": "9340e35e",
   "metadata": {},
   "source": [
    "<b> Visualize training data </b>"
   ]
  },
  {
   "cell_type": "code",
   "execution_count": 4,
   "id": "7ae3cf37",
   "metadata": {},
   "outputs": [],
   "source": [
    "# Visual a list of images\n",
    "def visual_images(list_images):\n",
    "    nb_imgs = len(list_images)\n",
    "    # 5 images each column\n",
    "    nb_columns = 5 if nb_imgs >= 5 else nb_imgs\n",
    "    nb_rows = nb_imgs//5 + 1 if nb_imgs%5 != 0 else nb_imgs//5\n",
    "    fig, axs = plt.subplots(nb_rows, nb_columns, figsize=(2*nb_columns, 2*nb_rows))\n",
    "    for image, ax in zip(list_images, axs.flatten()):\n",
    "        ax.imshow(image, cmap='gray')\n",
    "        ax.axis('off')"
   ]
  },
  {
   "cell_type": "code",
   "execution_count": 5,
   "id": "e628ff69",
   "metadata": {},
   "outputs": [
    {
     "data": {
      "image/png": "[encoded data removed]",
      "text/plain": [
       "<Figure size 720x288 with 10 Axes>"
      ]
     },
     "metadata": {
      "needs_background": "light"
     },
     "output_type": "display_data"
    }
   ],
   "source": [
    "# Random pick some images in data set and visualize\n",
    "imgs = [data[i][j] for i in np.random.randint(0,35,5) for j in np.random.randint(0,39, 2)]\n",
    "visual_images(imgs)"
   ]
  },
  {
   "cell_type": "markdown",
   "id": "fe65284e",
   "metadata": {},
   "source": [
    "### RBM\n",
    "Using RBM on Binary Alphadigit to generate approximate images"
   ]
  },
  {
   "cell_type": "code",
   "execution_count": 6,
   "id": "e1659260",
   "metadata": {},
   "outputs": [],
   "source": [
    "#parameters\n",
    "\n",
    "# value of images to process\n",
    "index = [3, 5]\n",
    "lr = 0.1\n",
    "batch_size = 3\n",
    "iterations = 500"
   ]
  },
  {
   "cell_type": "code",
   "execution_count": 7,
   "id": "813e769d",
   "metadata": {},
   "outputs": [],
   "source": [
    "#get data of index values\n",
    "X = lire_alpha_digit(data, index)"
   ]
  },
  {
   "cell_type": "code",
   "execution_count": 8,
   "id": "4ddba547",
   "metadata": {},
   "outputs": [
    {
     "name": "stdout",
     "output_type": "stream",
     "text": [
      "Training Started. 10 iterations.\n"
     ]
    },
    {
     "name": "stderr",
     "output_type": "stream",
     "text": [
      "100%|███████████████████████████████████████████████████████████████████████████████████| 10/10 [00:00<00:00, 33.92it/s]\n"
     ]
    },
    {
     "name": "stdout",
     "output_type": "stream",
     "text": [
      "End Training\n",
      "--------------\n",
      "Image generated with RBM of 10 trained epochs\n",
      "Generated 5 images\n"
     ]
    },
    {
     "data": {
      "image/png": "[encoded data removed]",
      "text/plain": [
       "<Figure size 720x144 with 5 Axes>"
      ]
     },
     "metadata": {
      "needs_background": "light"
     },
     "output_type": "display_data"
    }
   ],
   "source": [
    "# Initializing RBM\n",
    "rbm = RBM(320, 200)\n",
    "# Training RBM on data\n",
    "rbm.fit(X, 10, lr, batch_size)\n",
    "print(\"Image generated with RBM of 10 trained epochs\")\n",
    "generated_images = rbm.generate_image(5, 500)\n",
    "visual_images(generated_images)"
   ]
  },
  {
   "cell_type": "code",
   "execution_count": 9,
   "id": "5ec252ea",
   "metadata": {},
   "outputs": [
    {
     "name": "stdout",
     "output_type": "stream",
     "text": [
      "Training Started. 1000 iterations.\n"
     ]
    },
    {
     "name": "stderr",
     "output_type": "stream",
     "text": [
      "100%|███████████████████████████████████████████████████████████████████████████████| 1000/1000 [00:30<00:00, 33.03it/s]\n"
     ]
    },
    {
     "name": "stdout",
     "output_type": "stream",
     "text": [
      "End Training\n",
      "--------------\n",
      "Image generated with RBM of 1000 trained epochs\n",
      "Generated 5 images\n"
     ]
    },
    {
     "data": {
      "image/png": "[encoded data removed]",
      "text/plain": [
       "<Figure size 720x144 with 5 Axes>"
      ]
     },
     "metadata": {
      "needs_background": "light"
     },
     "output_type": "display_data"
    }
   ],
   "source": [
    "# Initializing RBM\n",
    "rbm = RBM(320, 200)\n",
    "# Training RBM on data\n",
    "rbm.fit(X, 1000, lr, batch_size)\n",
    "print(\"Image generated with RBM of 1000 trained epochs\")\n",
    "generated_images = rbm.generate_image(5, 500)\n",
    "visual_images(generated_images)"
   ]
  },
  {
   "cell_type": "markdown",
   "id": "47c88997",
   "metadata": {},
   "source": [
    "<div class=\"alert alert-success\">\n",
    "We can observe that RBM can generate images which are very similar to original images. Otherwise, this structure can learn distribution combined from distributions of several values. As in our example, it can learn at the same time the distribution of pixels in images of value 3 and 5. Then it can generate arbitrarily the image of number 3 or 5.\n",
    "</div>"
   ]
  },
  {
   "cell_type": "markdown",
   "id": "cc7bff1d",
   "metadata": {},
   "source": [
    "### DBN\n",
    "We construct the DBN structure as a chain of RBM with predefined number of nodes in hidden layers."
   ]
  },
  {
   "cell_type": "code",
   "execution_count": 10,
   "id": "39750bef",
   "metadata": {},
   "outputs": [],
   "source": [
    "class DNN():\n",
    "    \n",
    "    def __init__(self, p, q, hidden_dims):\n",
    "        self.DNN = []\n",
    "        hidden_dims_ = hidden_dims\n",
    "        hidden_dims_.append(q)\n",
    "        self.nb_layers = len(hidden_dims_)\n",
    "        self.dim_input = p\n",
    "        self.dim_output = q\n",
    "\n",
    "        # Construct DNN as chain of DBMs\n",
    "        temp_dim_input = p\n",
    "        for temp_dim_output in hidden_dims_:\n",
    "            self.DNN.append(RBM(temp_dim_input, temp_dim_output))\n",
    "            temp_dim_input = temp_dim_output\n",
    "    \n",
    "    def pretrain_DNN(self, X, nb_epoch, lr, batch_size):\n",
    "        X_train = X\n",
    "        for i in range(self.nb_layers):\n",
    "            print(f\"Training layer {i}\")\n",
    "            self.DNN[i].fit(X_train, nb_epoch, lr, batch_size)\n",
    "            X_train = self.DNN[i].entree_sortie_RBM(X_train)\n",
    "            #print(\"\\n\")\n",
    "    \n",
    "    def gibbs(self, input, iterations):\n",
    "        for n in range(iterations):\n",
    "            init_ = input\n",
    "            for i in range(self.nb_layers):\n",
    "                init_ = self.DNN[i].entree_sortie_RBM(init_)\n",
    "            out_ = init_\n",
    "            for i in range(self.nb_layers):\n",
    "                idx_layer = self.nb_layers-i-1\n",
    "                out_ = self.DNN[idx_layer].sortie_entree_RBM(out_)\n",
    "        return out_\n",
    "    \n",
    "    def generer_image_DBN(self, nb_image, iterations):\n",
    "        output = []\n",
    "        for i in range(nb_image):\n",
    "            input_init = np.random.rand(1, self.dim_input)\n",
    "            generated_image = self.gibbs(input_init, iterations)\n",
    "            generated_image =  np.reshape(generated_image, (20, 16))\n",
    "            generated_image = np.round(generated_image)\n",
    "            output.append(generated_image)\n",
    "        print(f\"Generated {nb_image} images.\")\n",
    "        return output"
   ]
  },
  {
   "cell_type": "code",
   "execution_count": 29,
   "id": "5397b704",
   "metadata": {},
   "outputs": [],
   "source": [
    "# parameters\n",
    "X = lire_alpha_digit(data, [10, 28, 30])\n",
    "hidden_nodes = [100, 200, 200, 100]\n",
    "epochs = 100\n",
    "lr = 0.1\n",
    "batch_size = 3"
   ]
  },
  {
   "cell_type": "code",
   "execution_count": 30,
   "id": "c63ad915",
   "metadata": {},
   "outputs": [
    {
     "name": "stdout",
     "output_type": "stream",
     "text": [
      "Training layer 0\n",
      "Training Started. 100 iterations.\n"
     ]
    },
    {
     "name": "stderr",
     "output_type": "stream",
     "text": [
      "100%|█████████████████████████████████████████████████████████████████████████████████| 100/100 [00:02<00:00, 37.09it/s]\n"
     ]
    },
    {
     "name": "stdout",
     "output_type": "stream",
     "text": [
      "End Training\n",
      "--------------\n",
      "Training layer 1\n",
      "Training Started. 100 iterations.\n"
     ]
    },
    {
     "name": "stderr",
     "output_type": "stream",
     "text": [
      "100%|█████████████████████████████████████████████████████████████████████████████████| 100/100 [00:02<00:00, 46.67it/s]\n"
     ]
    },
    {
     "name": "stdout",
     "output_type": "stream",
     "text": [
      "End Training\n",
      "--------------\n",
      "Training layer 2\n",
      "Training Started. 100 iterations.\n"
     ]
    },
    {
     "name": "stderr",
     "output_type": "stream",
     "text": [
      "100%|█████████████████████████████████████████████████████████████████████████████████| 100/100 [00:03<00:00, 30.99it/s]\n"
     ]
    },
    {
     "name": "stdout",
     "output_type": "stream",
     "text": [
      "End Training\n",
      "--------------\n",
      "Training layer 3\n",
      "Training Started. 100 iterations.\n"
     ]
    },
    {
     "name": "stderr",
     "output_type": "stream",
     "text": [
      "100%|█████████████████████████████████████████████████████████████████████████████████| 100/100 [00:01<00:00, 50.35it/s]\n"
     ]
    },
    {
     "name": "stdout",
     "output_type": "stream",
     "text": [
      "End Training\n",
      "--------------\n",
      "Training layer 4\n",
      "Training Started. 100 iterations.\n"
     ]
    },
    {
     "name": "stderr",
     "output_type": "stream",
     "text": [
      "100%|█████████████████████████████████████████████████████████████████████████████████| 100/100 [00:01<00:00, 70.48it/s]"
     ]
    },
    {
     "name": "stdout",
     "output_type": "stream",
     "text": [
      "End Training\n",
      "--------------\n"
     ]
    },
    {
     "name": "stderr",
     "output_type": "stream",
     "text": [
      "\n"
     ]
    }
   ],
   "source": [
    "# Get DBN structure\n",
    "DBN = DNN(320, 100, hidden_nodes)\n",
    "DBN.pretrain_DNN(X, epochs, lr, batch_size)"
   ]
  },
  {
   "cell_type": "code",
   "execution_count": 33,
   "id": "2b9a0c65",
   "metadata": {},
   "outputs": [
    {
     "name": "stdout",
     "output_type": "stream",
     "text": [
      "Generated 10 images.\n",
      "10\n"
     ]
    },
    {
     "data": {
      "image/png": "[encoded data removed]",
      "text/plain": [
       "<Figure size 720x288 with 10 Axes>"
      ]
     },
     "metadata": {
      "needs_background": "light"
     },
     "output_type": "display_data"
    }
   ],
   "source": [
    "generated_images = DBN.generer_image_DBN(10 , 500)\n",
    "print(len(generated_images))\n",
    "visual_images(generated_images)"
   ]
  },
  {
   "cell_type": "markdown",
   "id": "ad05436b",
   "metadata": {},
   "source": [
    "<div class =\"alert alert-success\">\n",
    "We can observe that DBN works well with smaller number of training epochs in comparing to RBM. RBM needs more epochs to get the same quality as DBN. It is evident because DBN is a combination of several RBM and is more complexe than RBM.\n",
    "</div>"
   ]
  }
 ],
 "metadata": {
  "kernelspec": {
   "display_name": "Python 3 (ipykernel)",
   "language": "python",
   "name": "python3"
  },
  "language_info": {
   "codemirror_mode": {
    "name": "ipython",
    "version": 3
   },
   "file_extension": ".py",
   "mimetype": "text/x-python",
   "name": "python",
   "nbconvert_exporter": "python",
   "pygments_lexer": "ipython3",
   "version": "3.9.7"
  }
 },
 "nbformat": 4,
 "nbformat_minor": 5
}
