{
 "cells": [
  {
   "cell_type": "code",
   "execution_count": 1,
   "id": "479937a6",
   "metadata": {},
   "outputs": [],
   "source": [
    "import numpy as np\n",
    "import matplotlib.pyplot as plt\n",
    "import scipy.io as scio\n",
    "from RBM import *\n",
    "from principal_DNN_mnist import *\n",
    "from pathlib import Path"
   ]
  },
  {
   "cell_type": "code",
   "execution_count": 2,
   "id": "118bc10a",
   "metadata": {},
   "outputs": [
    {
     "name": "stderr",
     "output_type": "stream",
     "text": [
      "2022-04-16 05:48:42.278688: W tensorflow/stream_executor/platform/default/dso_loader.cc:64] Could not load dynamic library 'libcudart.so.11.0'; dlerror: libcudart.so.11.0: cannot open shared object file: No such file or directory\n",
      "2022-04-16 05:48:42.278708: I tensorflow/stream_executor/cuda/cudart_stub.cc:29] Ignore above cudart dlerror if you do not have a GPU set up on your machine.\n"
     ]
    }
   ],
   "source": [
    "from keras.datasets import mnist\n",
    "\n",
    "(train_X, train_y), (test_X, test_y) = mnist.load_data()\n",
    "\n",
    "# Variable binaire\n",
    "train_X = train_X > 127\n",
    "test_X  = test_X > 127\n",
    "\n",
    "# Reshape pour respect le format attendu par le modéle\n",
    "train_X = train_X.reshape(train_X.shape[0], train_X.shape[1]*train_X.shape[2])\n",
    "test_X = test_X.reshape(test_X.shape[0], test_X.shape[1]*test_X.shape[2])\n",
    "\n",
    "\n",
    "tmp = np.zeros((test_y.shape[0],10))\n",
    "tmp_2 = np.zeros((train_y.shape[0],10))\n",
    "\n",
    "for i in range(len(test_y)):\n",
    "    tmp[i, test_y[i]-1] = 1\n",
    "\n",
    "for i in range(len(train_y)):\n",
    "    tmp_2[i, train_y[i]-1] = 1\n",
    "test_y = tmp\n",
    "train_y = tmp_2\n",
    "\n",
    "del tmp, tmp_2"
   ]
  },
  {
   "cell_type": "code",
   "execution_count": 3,
   "id": "c38935b1",
   "metadata": {},
   "outputs": [],
   "source": [
    "size = 0.8\n",
    "cut_ = int(train_X.shape[0]*size)\n",
    "X_train = train_X[:cut_]\n",
    "Y_train = train_y[:cut_]\n",
    "\n",
    "X_test  = test_X[cut_:int(1.3*cut_)]\n",
    "Y_test  = test_y[cut_:int(1.3*cut_)]"
   ]
  },
  {
   "cell_type": "code",
   "execution_count": 4,
   "id": "5916c42b",
   "metadata": {},
   "outputs": [],
   "source": [
    "n_epoch_pre_train = 100\n",
    "n_epoch_train     = 200\n",
    "lr                = 0.1\n",
    "batch_size        = 64\n",
    "p                 = X_train.shape[1]\n",
    "n_classe          = Y_train.shape[1]\n",
    "hid_layers        = [100, 200]"
   ]
  },
  {
   "cell_type": "code",
   "execution_count": 5,
   "id": "7b10154b",
   "metadata": {},
   "outputs": [],
   "source": [
    "DNN_ = DNN(p, n_classe, hid_layers)"
   ]
  },
  {
   "cell_type": "code",
   "execution_count": 6,
   "id": "93ec88f4",
   "metadata": {},
   "outputs": [
    {
     "name": "stderr",
     "output_type": "stream",
     "text": [
      "  0%|                                                         | 0.00/200 [00:01<?, ?it/s, Erreur =0]\n"
     ]
    },
    {
     "ename": "RuntimeError",
     "evalue": "\"addmm_cuda\" not implemented for 'Bool'",
     "output_type": "error",
     "traceback": [
      "\u001b[0;31m---------------------------------------------------------------------------\u001b[0m",
      "\u001b[0;31mRuntimeError\u001b[0m                              Traceback (most recent call last)",
      "Input \u001b[0;32mIn [6]\u001b[0m, in \u001b[0;36m<cell line: 1>\u001b[0;34m()\u001b[0m\n\u001b[0;32m----> 1\u001b[0m DNN_, hist \u001b[38;5;241m=\u001b[39m \u001b[43mretropropagation\u001b[49m\u001b[43m(\u001b[49m\u001b[43mDNN_\u001b[49m\u001b[43m,\u001b[49m\u001b[43m \u001b[49m\u001b[38;5;28;43minput\u001b[39;49m\u001b[43m \u001b[49m\u001b[38;5;241;43m=\u001b[39;49m\u001b[43m \u001b[49m\u001b[43mX_train\u001b[49m\u001b[43m,\u001b[49m\u001b[43m \u001b[49m\u001b[43mlabel\u001b[49m\u001b[43m \u001b[49m\u001b[38;5;241;43m=\u001b[39;49m\u001b[43m \u001b[49m\u001b[43mY_train\u001b[49m\u001b[43m,\u001b[49m\u001b[43m \u001b[49m\u001b[43mepochs\u001b[49m\u001b[43m \u001b[49m\u001b[38;5;241;43m=\u001b[39;49m\u001b[43m \u001b[49m\u001b[43mn_epoch_train\u001b[49m\u001b[43m,\u001b[49m\u001b[43m \u001b[49m\u001b[43mlr\u001b[49m\u001b[43m \u001b[49m\u001b[38;5;241;43m=\u001b[39;49m\u001b[43m \u001b[49m\u001b[43mlr\u001b[49m\u001b[43m,\u001b[49m\u001b[43m \u001b[49m\u001b[43mbatch_size\u001b[49m\u001b[43m \u001b[49m\u001b[38;5;241;43m=\u001b[39;49m\u001b[43m \u001b[49m\u001b[43mbatch_size\u001b[49m\u001b[43m)\u001b[49m\n",
      "File \u001b[0;32m~/M2/deep2/deep-learning-2/principal_DNN_mnist.py:148\u001b[0m, in \u001b[0;36mretropropagation\u001b[0;34m(DNN_, input, label, epochs, lr, batch_size)\u001b[0m\n\u001b[1;32m    145\u001b[0m     dxi1 \u001b[38;5;241m=\u001b[39m dx_i\n\u001b[1;32m    147\u001b[0m     x_i_1 \u001b[38;5;241m=\u001b[39m torch\u001b[38;5;241m.\u001b[39mfrom_numpy(x_i_1)\u001b[38;5;241m.\u001b[39mto(device)\n\u001b[0;32m--> 148\u001b[0m     gradients_[\u001b[38;5;124m'\u001b[39m\u001b[38;5;124mW_\u001b[39m\u001b[38;5;124m'\u001b[39m\u001b[38;5;241m+\u001b[39m\u001b[38;5;28mstr\u001b[39m(idx)] \u001b[38;5;241m=\u001b[39m \u001b[43mtorch\u001b[49m\u001b[38;5;241;43m.\u001b[39;49m\u001b[43mmatmul\u001b[49m\u001b[43m(\u001b[49m\u001b[43mx_i_1\u001b[49m\u001b[38;5;241;43m.\u001b[39;49m\u001b[43mT\u001b[49m\u001b[43m,\u001b[49m\u001b[43m \u001b[49m\u001b[43mdx_i\u001b[49m\u001b[43m)\u001b[49m\n\u001b[1;32m    149\u001b[0m     gradients_[\u001b[38;5;124m'\u001b[39m\u001b[38;5;124mb_\u001b[39m\u001b[38;5;124m'\u001b[39m\u001b[38;5;241m+\u001b[39m\u001b[38;5;28mstr\u001b[39m(idx)] \u001b[38;5;241m=\u001b[39m torch\u001b[38;5;241m.\u001b[39mmean(dx_i, axis\u001b[38;5;241m=\u001b[39m\u001b[38;5;241m0\u001b[39m)\n\u001b[1;32m    151\u001b[0m DNN_\u001b[38;5;241m.\u001b[39mclassification_head\u001b[38;5;241m.\u001b[39mW \u001b[38;5;241m=\u001b[39m DNN_\u001b[38;5;241m.\u001b[39mclassification_head\u001b[38;5;241m.\u001b[39mW \u001b[38;5;241m-\u001b[39m lr\u001b[38;5;241m*\u001b[39mgradients_[\u001b[38;5;124m'\u001b[39m\u001b[38;5;124mW_last\u001b[39m\u001b[38;5;124m'\u001b[39m]\n",
      "\u001b[0;31mRuntimeError\u001b[0m: \"addmm_cuda\" not implemented for 'Bool'"
     ]
    }
   ],
   "source": [
    "DNN_, hist = retropropagation(DNN_, input = X_train, label = Y_train, epochs = n_epoch_train, lr = lr, batch_size = batch_size)"
   ]
  },
  {
   "cell_type": "code",
   "execution_count": null,
   "id": "dbaa9597",
   "metadata": {},
   "outputs": [],
   "source": []
  }
 ],
 "metadata": {
  "kernelspec": {
   "display_name": "Python 3 (ipykernel)",
   "language": "python",
   "name": "python3"
  },
  "language_info": {
   "codemirror_mode": {
    "name": "ipython",
    "version": 3
   },
   "file_extension": ".py",
   "mimetype": "text/x-python",
   "name": "python",
   "nbconvert_exporter": "python",
   "pygments_lexer": "ipython3",
   "version": "3.9.7"
  }
 },
 "nbformat": 4,
 "nbformat_minor": 5
}
